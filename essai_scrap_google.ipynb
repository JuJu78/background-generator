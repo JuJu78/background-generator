{
  "nbformat": 4,
  "nbformat_minor": 0,
  "metadata": {
    "colab": {
      "name": "essai scrap google.ipynb",
      "provenance": [],
      "authorship_tag": "ABX9TyNJfUAVkwy02Sncd5rwm+Lg",
      "include_colab_link": true
    },
    "kernelspec": {
      "name": "python3",
      "display_name": "Python 3"
    }
  },
  "cells": [
    {
      "cell_type": "markdown",
      "metadata": {
        "id": "view-in-github",
        "colab_type": "text"
      },
      "source": [
        "<a href=\"https://colab.research.google.com/github/JuJu78/background-generator/blob/master/essai_scrap_google.ipynb\" target=\"_parent\"><img src=\"https://colab.research.google.com/assets/colab-badge.svg\" alt=\"Open In Colab\"/></a>"
      ]
    },
    {
      "cell_type": "code",
      "metadata": {
        "id": "wb9vouLJQqjJ",
        "colab_type": "code",
        "colab": {
          "base_uri": "https://localhost:8080/",
          "height": 34
        },
        "outputId": "c82a0d63-27ed-4660-e117-8afc651f0d09"
      },
      "source": [
        "!pip install beautifulsoup4\n",
        "import bs4\n",
        "import requests\n",
        "import re\n",
        "from spacy import displacy\n",
        "from IPython.display import clear_output\n",
        "clear_output()\n",
        "print('Tout est correctement installé !')"
      ],
      "execution_count": null,
      "outputs": [
        {
          "output_type": "stream",
          "text": [
            "Tout est correctement installé !\n"
          ],
          "name": "stdout"
        }
      ]
    },
    {
      "cell_type": "code",
      "metadata": {
        "id": "KF0KgaJwRTcL",
        "colab_type": "code",
        "colab": {}
      },
      "source": [
        "URL = \"https://www.google.com/search?q=faire+du+r%C3%A9f%C3%A9rencement\"\n",
        "\n",
        "web_page = bs4.BeautifulSoup(requests.get(URL, headers={\n",
        "    \"UserAgent\": \"Mozilla/5.0 (X11; Linux x86_64) AppleWebKit/537.36 (KHTML, like Gecko) Chrome/65.0.3325.183 Safari/537.36\"\n",
        "}).text, \"lxml\")"
      ],
      "execution_count": null,
      "outputs": []
    },
    {
      "cell_type": "code",
      "metadata": {
        "id": "OTNZZazKv_ka",
        "colab_type": "code",
        "colab": {
          "base_uri": "https://localhost:8080/",
          "height": 34
        },
        "outputId": "5444bca8-1104-4aea-d665-69d497c4dcd5"
      },
      "source": [
        "def nouvelle_page(web_page):\n",
        "  return [link.get('href') for link in web_page.find_all('a')]\n",
        "popo = str(nouvelle_page(web_page))\n",
        "type(popo)"
      ],
      "execution_count": null,
      "outputs": [
        {
          "output_type": "execute_result",
          "data": {
            "text/plain": [
              "str"
            ]
          },
          "metadata": {
            "tags": []
          },
          "execution_count": 3
        }
      ]
    },
    {
      "cell_type": "code",
      "metadata": {
        "id": "TnM5laHS73pa",
        "colab_type": "code",
        "colab": {
          "base_uri": "https://localhost:8080/",
          "height": 357
        },
        "outputId": "aedd4e6e-5093-458c-8f33-7ac90f8c571c"
      },
      "source": [
        "def is_valid_url(url):\n",
        "    import re\n",
        "    regex = re.findall(\n",
        "        # r'https?:\\/\\/[a-z0-9\\/._-]*', popo, re.MULTILINE)\n",
        "        r'https?:\\/\\/[a-z0-9\\/._-]*', popo)\n",
        "    return regex\n",
        "is_valid_url(popo)"
      ],
      "execution_count": null,
      "outputs": [
        {
          "output_type": "execute_result",
          "data": {
            "text/plain": [
              "['https://maps.google.com/maps',\n",
              " 'http://www.google.com/aclk',\n",
              " 'https://www.google.com/preferences',\n",
              " 'https://www.e-monsite.com/pages/tutoriels/referencement/',\n",
              " 'https://www.e-monsite.com/pages/tutoriels/referencement/',\n",
              " 'https://www.eskimoz.fr/referencement-naturel/',\n",
              " 'https://www.rankspirit.com/',\n",
              " 'https://www.search-foresight.com/comment-faire-du-referencement-naturel-gratuit/',\n",
              " 'https://www.rouillier.ca/blog/seo-comment-faire-le-referencement-de-son-site-web/',\n",
              " 'https://www.agence-ska.com/fr/le-referencement-google',\n",
              " 'https://www.referencement-naturel-white-hat.fr/comment-referencement/',\n",
              " 'https://www.youtube.com/watch',\n",
              " 'https://www.youtube.com/watch',\n",
              " 'https://www.pulsar-informatique.com/service-seo/1822-apprendre-a-faire-du-referencement',\n",
              " 'https://www.ludosln.net/comment-bien-referencer-son-site-internet-en-4-etapes/',\n",
              " 'https://accounts.google.com/',\n",
              " 'https://www.google.com/search',\n",
              " 'https://www.google.com/preferences',\n",
              " 'https://policies.google.com/privacy',\n",
              " 'https://policies.google.com/terms']"
            ]
          },
          "metadata": {
            "tags": []
          },
          "execution_count": 4
        }
      ]
    },
    {
      "cell_type": "code",
      "metadata": {
        "id": "ZpPEqwq00Qdc",
        "colab_type": "code",
        "colab": {
          "base_uri": "https://localhost:8080/",
          "height": 576
        },
        "outputId": "6d8869f5-5913-4d27-a3e5-fd9371b1b312"
      },
      "source": [
        "import pandas as pd\n",
        "tableau = pd.DataFrame(is_valid_url(popo), columns=[\"URL\"])\n",
        "tableau.drop_duplicates()"
      ],
      "execution_count": null,
      "outputs": [
        {
          "output_type": "execute_result",
          "data": {
            "text/html": [
              "<div>\n",
              "<style scoped>\n",
              "    .dataframe tbody tr th:only-of-type {\n",
              "        vertical-align: middle;\n",
              "    }\n",
              "\n",
              "    .dataframe tbody tr th {\n",
              "        vertical-align: top;\n",
              "    }\n",
              "\n",
              "    .dataframe thead th {\n",
              "        text-align: right;\n",
              "    }\n",
              "</style>\n",
              "<table border=\"1\" class=\"dataframe\">\n",
              "  <thead>\n",
              "    <tr style=\"text-align: right;\">\n",
              "      <th></th>\n",
              "      <th>URL</th>\n",
              "    </tr>\n",
              "  </thead>\n",
              "  <tbody>\n",
              "    <tr>\n",
              "      <th>0</th>\n",
              "      <td>https://maps.google.com/maps</td>\n",
              "    </tr>\n",
              "    <tr>\n",
              "      <th>1</th>\n",
              "      <td>http://www.google.com/aclk</td>\n",
              "    </tr>\n",
              "    <tr>\n",
              "      <th>2</th>\n",
              "      <td>https://www.google.com/preferences</td>\n",
              "    </tr>\n",
              "    <tr>\n",
              "      <th>3</th>\n",
              "      <td>https://www.e-monsite.com/pages/tutoriels/refe...</td>\n",
              "    </tr>\n",
              "    <tr>\n",
              "      <th>5</th>\n",
              "      <td>https://www.eskimoz.fr/referencement-naturel/</td>\n",
              "    </tr>\n",
              "    <tr>\n",
              "      <th>6</th>\n",
              "      <td>https://www.rankspirit.com/</td>\n",
              "    </tr>\n",
              "    <tr>\n",
              "      <th>7</th>\n",
              "      <td>https://www.search-foresight.com/comment-faire...</td>\n",
              "    </tr>\n",
              "    <tr>\n",
              "      <th>8</th>\n",
              "      <td>https://www.rouillier.ca/blog/seo-comment-fair...</td>\n",
              "    </tr>\n",
              "    <tr>\n",
              "      <th>9</th>\n",
              "      <td>https://www.agence-ska.com/fr/le-referencement...</td>\n",
              "    </tr>\n",
              "    <tr>\n",
              "      <th>10</th>\n",
              "      <td>https://www.referencement-naturel-white-hat.fr...</td>\n",
              "    </tr>\n",
              "    <tr>\n",
              "      <th>11</th>\n",
              "      <td>https://www.youtube.com/watch</td>\n",
              "    </tr>\n",
              "    <tr>\n",
              "      <th>13</th>\n",
              "      <td>https://www.pulsar-informatique.com/service-se...</td>\n",
              "    </tr>\n",
              "    <tr>\n",
              "      <th>14</th>\n",
              "      <td>https://www.ludosln.net/comment-bien-reference...</td>\n",
              "    </tr>\n",
              "    <tr>\n",
              "      <th>15</th>\n",
              "      <td>https://accounts.google.com/</td>\n",
              "    </tr>\n",
              "    <tr>\n",
              "      <th>16</th>\n",
              "      <td>https://www.google.com/search</td>\n",
              "    </tr>\n",
              "    <tr>\n",
              "      <th>18</th>\n",
              "      <td>https://policies.google.com/privacy</td>\n",
              "    </tr>\n",
              "    <tr>\n",
              "      <th>19</th>\n",
              "      <td>https://policies.google.com/terms</td>\n",
              "    </tr>\n",
              "  </tbody>\n",
              "</table>\n",
              "</div>"
            ],
            "text/plain": [
              "                                                  URL\n",
              "0                        https://maps.google.com/maps\n",
              "1                          http://www.google.com/aclk\n",
              "2                  https://www.google.com/preferences\n",
              "3   https://www.e-monsite.com/pages/tutoriels/refe...\n",
              "5       https://www.eskimoz.fr/referencement-naturel/\n",
              "6                         https://www.rankspirit.com/\n",
              "7   https://www.search-foresight.com/comment-faire...\n",
              "8   https://www.rouillier.ca/blog/seo-comment-fair...\n",
              "9   https://www.agence-ska.com/fr/le-referencement...\n",
              "10  https://www.referencement-naturel-white-hat.fr...\n",
              "11                      https://www.youtube.com/watch\n",
              "13  https://www.pulsar-informatique.com/service-se...\n",
              "14  https://www.ludosln.net/comment-bien-reference...\n",
              "15                       https://accounts.google.com/\n",
              "16                      https://www.google.com/search\n",
              "18                https://policies.google.com/privacy\n",
              "19                  https://policies.google.com/terms"
            ]
          },
          "metadata": {
            "tags": []
          },
          "execution_count": 14
        }
      ]
    },
    {
      "cell_type": "code",
      "metadata": {
        "id": "WVNVfpXb9j-n",
        "colab_type": "code",
        "colab": {
          "base_uri": "https://localhost:8080/",
          "height": 590
        },
        "outputId": "e2787dd7-c673-4804-f385-d24be34e2a2c"
      },
      "source": [
        "ma_liste_url = tableau.drop_duplicates()\n",
        "nouvelle_liste_url = ma_liste_url.set_index('URL')\n",
        "nouvelle_liste_url"
      ],
      "execution_count": null,
      "outputs": [
        {
          "output_type": "execute_result",
          "data": {
            "text/html": [
              "<div>\n",
              "<style scoped>\n",
              "    .dataframe tbody tr th:only-of-type {\n",
              "        vertical-align: middle;\n",
              "    }\n",
              "\n",
              "    .dataframe tbody tr th {\n",
              "        vertical-align: top;\n",
              "    }\n",
              "\n",
              "    .dataframe thead th {\n",
              "        text-align: right;\n",
              "    }\n",
              "</style>\n",
              "<table border=\"1\" class=\"dataframe\">\n",
              "  <thead>\n",
              "    <tr style=\"text-align: right;\">\n",
              "      <th></th>\n",
              "    </tr>\n",
              "    <tr>\n",
              "      <th>URL</th>\n",
              "    </tr>\n",
              "  </thead>\n",
              "  <tbody>\n",
              "    <tr>\n",
              "      <th>https://maps.google.com/maps</th>\n",
              "    </tr>\n",
              "    <tr>\n",
              "      <th>http://www.google.com/aclk</th>\n",
              "    </tr>\n",
              "    <tr>\n",
              "      <th>https://www.google.com/preferences</th>\n",
              "    </tr>\n",
              "    <tr>\n",
              "      <th>https://www.e-monsite.com/pages/tutoriels/referencement/</th>\n",
              "    </tr>\n",
              "    <tr>\n",
              "      <th>https://www.eskimoz.fr/referencement-naturel/</th>\n",
              "    </tr>\n",
              "    <tr>\n",
              "      <th>https://www.rankspirit.com/</th>\n",
              "    </tr>\n",
              "    <tr>\n",
              "      <th>https://www.search-foresight.com/comment-faire-du-referencement-naturel-gratuit/</th>\n",
              "    </tr>\n",
              "    <tr>\n",
              "      <th>https://www.rouillier.ca/blog/seo-comment-faire-le-referencement-de-son-site-web/</th>\n",
              "    </tr>\n",
              "    <tr>\n",
              "      <th>https://www.agence-ska.com/fr/le-referencement-google</th>\n",
              "    </tr>\n",
              "    <tr>\n",
              "      <th>https://www.referencement-naturel-white-hat.fr/comment-referencement/</th>\n",
              "    </tr>\n",
              "    <tr>\n",
              "      <th>https://www.youtube.com/watch</th>\n",
              "    </tr>\n",
              "    <tr>\n",
              "      <th>https://www.pulsar-informatique.com/service-seo/1822-apprendre-a-faire-du-referencement</th>\n",
              "    </tr>\n",
              "    <tr>\n",
              "      <th>https://www.ludosln.net/comment-bien-referencer-son-site-internet-en-4-etapes/</th>\n",
              "    </tr>\n",
              "    <tr>\n",
              "      <th>https://accounts.google.com/</th>\n",
              "    </tr>\n",
              "    <tr>\n",
              "      <th>https://www.google.com/search</th>\n",
              "    </tr>\n",
              "    <tr>\n",
              "      <th>https://policies.google.com/privacy</th>\n",
              "    </tr>\n",
              "    <tr>\n",
              "      <th>https://policies.google.com/terms</th>\n",
              "    </tr>\n",
              "  </tbody>\n",
              "</table>\n",
              "</div>"
            ],
            "text/plain": [
              "Empty DataFrame\n",
              "Columns: []\n",
              "Index: [https://maps.google.com/maps, http://www.google.com/aclk, https://www.google.com/preferences, https://www.e-monsite.com/pages/tutoriels/referencement/, https://www.eskimoz.fr/referencement-naturel/, https://www.rankspirit.com/, https://www.search-foresight.com/comment-faire-du-referencement-naturel-gratuit/, https://www.rouillier.ca/blog/seo-comment-faire-le-referencement-de-son-site-web/, https://www.agence-ska.com/fr/le-referencement-google, https://www.referencement-naturel-white-hat.fr/comment-referencement/, https://www.youtube.com/watch, https://www.pulsar-informatique.com/service-seo/1822-apprendre-a-faire-du-referencement, https://www.ludosln.net/comment-bien-referencer-son-site-internet-en-4-etapes/, https://accounts.google.com/, https://www.google.com/search, https://policies.google.com/privacy, https://policies.google.com/terms]"
            ]
          },
          "metadata": {
            "tags": []
          },
          "execution_count": 44
        }
      ]
    },
    {
      "cell_type": "code",
      "metadata": {
        "id": "VuiGIejp-S33",
        "colab_type": "code",
        "colab": {
          "base_uri": "https://localhost:8080/",
          "height": 306
        },
        "outputId": "8fb51b9d-13c1-4641-dc29-bb68bb27bc3c"
      },
      "source": [
        "nouvelle_nouvelle_liste_url = list(nouvelle_liste_url.index[:])\n",
        "nouvelle_nouvelle_liste_url"
      ],
      "execution_count": null,
      "outputs": [
        {
          "output_type": "execute_result",
          "data": {
            "text/plain": [
              "['https://maps.google.com/maps',\n",
              " 'http://www.google.com/aclk',\n",
              " 'https://www.google.com/preferences',\n",
              " 'https://www.e-monsite.com/pages/tutoriels/referencement/',\n",
              " 'https://www.eskimoz.fr/referencement-naturel/',\n",
              " 'https://www.rankspirit.com/',\n",
              " 'https://www.search-foresight.com/comment-faire-du-referencement-naturel-gratuit/',\n",
              " 'https://www.rouillier.ca/blog/seo-comment-faire-le-referencement-de-son-site-web/',\n",
              " 'https://www.agence-ska.com/fr/le-referencement-google',\n",
              " 'https://www.referencement-naturel-white-hat.fr/comment-referencement/',\n",
              " 'https://www.youtube.com/watch',\n",
              " 'https://www.pulsar-informatique.com/service-seo/1822-apprendre-a-faire-du-referencement',\n",
              " 'https://www.ludosln.net/comment-bien-referencer-son-site-internet-en-4-etapes/',\n",
              " 'https://accounts.google.com/',\n",
              " 'https://www.google.com/search',\n",
              " 'https://policies.google.com/privacy',\n",
              " 'https://policies.google.com/terms']"
            ]
          },
          "metadata": {
            "tags": []
          },
          "execution_count": 47
        }
      ]
    },
    {
      "cell_type": "code",
      "metadata": {
        "id": "jS4yrJI75cpu",
        "colab_type": "code",
        "colab": {
          "base_uri": "https://localhost:8080/",
          "height": 306
        },
        "outputId": "65f32801-7dd7-401e-b933-ba9d854fde60"
      },
      "source": [
        "# # ma_liste_url = list(tableau.drop_duplicates().index[:])\n",
        "\n",
        "# nouvelle_liste_url = \n",
        "# ma_liste_url = list(tableau.drop_duplicates().set_index('URL'))\n",
        "\n",
        "def url_a_conserver(nouvelle_nouvelle_liste_url):\n",
        "    google = [\"google.com\",\"youtube.com\"]\n",
        "    found = 'URL valide'\n",
        "    for url in google:\n",
        "        if url in nouvelle_nouvelle_liste_url:\n",
        "            found = 'URL non valide'\n",
        "    return found\n",
        "\n",
        "url_a_conserver_ou_a_ne_pas_conserver = dict()\n",
        "for url in nouvelle_nouvelle_liste_url:\n",
        "    url_a_conserver_ou_a_ne_pas_conserver[url] = url_a_conserver(url)\n",
        "url_a_conserver_ou_a_ne_pas_conserver"
      ],
      "execution_count": null,
      "outputs": [
        {
          "output_type": "execute_result",
          "data": {
            "text/plain": [
              "{'http://www.google.com/aclk': 'URL non valide',\n",
              " 'https://accounts.google.com/': 'URL non valide',\n",
              " 'https://maps.google.com/maps': 'URL non valide',\n",
              " 'https://policies.google.com/privacy': 'URL non valide',\n",
              " 'https://policies.google.com/terms': 'URL non valide',\n",
              " 'https://www.agence-ska.com/fr/le-referencement-google': 'URL valide',\n",
              " 'https://www.e-monsite.com/pages/tutoriels/referencement/': 'URL valide',\n",
              " 'https://www.eskimoz.fr/referencement-naturel/': 'URL valide',\n",
              " 'https://www.google.com/preferences': 'URL non valide',\n",
              " 'https://www.google.com/search': 'URL non valide',\n",
              " 'https://www.ludosln.net/comment-bien-referencer-son-site-internet-en-4-etapes/': 'URL valide',\n",
              " 'https://www.pulsar-informatique.com/service-seo/1822-apprendre-a-faire-du-referencement': 'URL valide',\n",
              " 'https://www.rankspirit.com/': 'URL valide',\n",
              " 'https://www.referencement-naturel-white-hat.fr/comment-referencement/': 'URL valide',\n",
              " 'https://www.rouillier.ca/blog/seo-comment-faire-le-referencement-de-son-site-web/': 'URL valide',\n",
              " 'https://www.search-foresight.com/comment-faire-du-referencement-naturel-gratuit/': 'URL valide',\n",
              " 'https://www.youtube.com/watch': 'URL non valide'}"
            ]
          },
          "metadata": {
            "tags": []
          },
          "execution_count": 53
        }
      ]
    },
    {
      "cell_type": "code",
      "metadata": {
        "id": "AFtUtSz063Tz",
        "colab_type": "code",
        "colab": {
          "base_uri": "https://localhost:8080/",
          "height": 607
        },
        "outputId": "dc2b9566-0760-491f-d2d1-d2a22f895f41"
      },
      "source": [
        "tableau_expressions_notoriete = pd.DataFrame.from_dict(url_a_conserver_ou_a_ne_pas_conserver,orient='index')\n",
        "tableau_expressions_notoriete.index.name='Liste des URL'\n",
        "tableau_expressions_notoriete.columns = ['Statut URL']\n",
        "tableau_expressions_notoriete"
      ],
      "execution_count": null,
      "outputs": [
        {
          "output_type": "execute_result",
          "data": {
            "text/html": [
              "<div>\n",
              "<style scoped>\n",
              "    .dataframe tbody tr th:only-of-type {\n",
              "        vertical-align: middle;\n",
              "    }\n",
              "\n",
              "    .dataframe tbody tr th {\n",
              "        vertical-align: top;\n",
              "    }\n",
              "\n",
              "    .dataframe thead th {\n",
              "        text-align: right;\n",
              "    }\n",
              "</style>\n",
              "<table border=\"1\" class=\"dataframe\">\n",
              "  <thead>\n",
              "    <tr style=\"text-align: right;\">\n",
              "      <th></th>\n",
              "      <th>Statut URL</th>\n",
              "    </tr>\n",
              "    <tr>\n",
              "      <th>Liste des URL</th>\n",
              "      <th></th>\n",
              "    </tr>\n",
              "  </thead>\n",
              "  <tbody>\n",
              "    <tr>\n",
              "      <th>https://maps.google.com/maps</th>\n",
              "      <td>URL non valide</td>\n",
              "    </tr>\n",
              "    <tr>\n",
              "      <th>http://www.google.com/aclk</th>\n",
              "      <td>URL non valide</td>\n",
              "    </tr>\n",
              "    <tr>\n",
              "      <th>https://www.google.com/preferences</th>\n",
              "      <td>URL non valide</td>\n",
              "    </tr>\n",
              "    <tr>\n",
              "      <th>https://www.e-monsite.com/pages/tutoriels/referencement/</th>\n",
              "      <td>URL valide</td>\n",
              "    </tr>\n",
              "    <tr>\n",
              "      <th>https://www.eskimoz.fr/referencement-naturel/</th>\n",
              "      <td>URL valide</td>\n",
              "    </tr>\n",
              "    <tr>\n",
              "      <th>https://www.rankspirit.com/</th>\n",
              "      <td>URL valide</td>\n",
              "    </tr>\n",
              "    <tr>\n",
              "      <th>https://www.search-foresight.com/comment-faire-du-referencement-naturel-gratuit/</th>\n",
              "      <td>URL valide</td>\n",
              "    </tr>\n",
              "    <tr>\n",
              "      <th>https://www.rouillier.ca/blog/seo-comment-faire-le-referencement-de-son-site-web/</th>\n",
              "      <td>URL valide</td>\n",
              "    </tr>\n",
              "    <tr>\n",
              "      <th>https://www.agence-ska.com/fr/le-referencement-google</th>\n",
              "      <td>URL valide</td>\n",
              "    </tr>\n",
              "    <tr>\n",
              "      <th>https://www.referencement-naturel-white-hat.fr/comment-referencement/</th>\n",
              "      <td>URL valide</td>\n",
              "    </tr>\n",
              "    <tr>\n",
              "      <th>https://www.youtube.com/watch</th>\n",
              "      <td>URL non valide</td>\n",
              "    </tr>\n",
              "    <tr>\n",
              "      <th>https://www.pulsar-informatique.com/service-seo/1822-apprendre-a-faire-du-referencement</th>\n",
              "      <td>URL valide</td>\n",
              "    </tr>\n",
              "    <tr>\n",
              "      <th>https://www.ludosln.net/comment-bien-referencer-son-site-internet-en-4-etapes/</th>\n",
              "      <td>URL valide</td>\n",
              "    </tr>\n",
              "    <tr>\n",
              "      <th>https://accounts.google.com/</th>\n",
              "      <td>URL non valide</td>\n",
              "    </tr>\n",
              "    <tr>\n",
              "      <th>https://www.google.com/search</th>\n",
              "      <td>URL non valide</td>\n",
              "    </tr>\n",
              "    <tr>\n",
              "      <th>https://policies.google.com/privacy</th>\n",
              "      <td>URL non valide</td>\n",
              "    </tr>\n",
              "    <tr>\n",
              "      <th>https://policies.google.com/terms</th>\n",
              "      <td>URL non valide</td>\n",
              "    </tr>\n",
              "  </tbody>\n",
              "</table>\n",
              "</div>"
            ],
            "text/plain": [
              "                                                        Statut URL\n",
              "Liste des URL                                                     \n",
              "https://maps.google.com/maps                        URL non valide\n",
              "http://www.google.com/aclk                          URL non valide\n",
              "https://www.google.com/preferences                  URL non valide\n",
              "https://www.e-monsite.com/pages/tutoriels/refer...      URL valide\n",
              "https://www.eskimoz.fr/referencement-naturel/           URL valide\n",
              "https://www.rankspirit.com/                             URL valide\n",
              "https://www.search-foresight.com/comment-faire-...      URL valide\n",
              "https://www.rouillier.ca/blog/seo-comment-faire...      URL valide\n",
              "https://www.agence-ska.com/fr/le-referencement-...      URL valide\n",
              "https://www.referencement-naturel-white-hat.fr/...      URL valide\n",
              "https://www.youtube.com/watch                       URL non valide\n",
              "https://www.pulsar-informatique.com/service-seo...      URL valide\n",
              "https://www.ludosln.net/comment-bien-referencer...      URL valide\n",
              "https://accounts.google.com/                        URL non valide\n",
              "https://www.google.com/search                       URL non valide\n",
              "https://policies.google.com/privacy                 URL non valide\n",
              "https://policies.google.com/terms                   URL non valide"
            ]
          },
          "metadata": {
            "tags": []
          },
          "execution_count": 55
        }
      ]
    },
    {
      "cell_type": "code",
      "metadata": {
        "id": "AR6KunyUAUHa",
        "colab_type": "code",
        "colab": {
          "base_uri": "https://localhost:8080/",
          "height": 359
        },
        "outputId": "dc9e97f9-7535-45f7-b521-090e43e9ee5f"
      },
      "source": [
        "liste_url_classe_page_un_google = tableau_expressions_notoriete.loc[tableau_expressions_notoriete['Statut URL']=='URL valide']\n",
        "liste_url_classe_page_un_google"
      ],
      "execution_count": null,
      "outputs": [
        {
          "output_type": "execute_result",
          "data": {
            "text/html": [
              "<div>\n",
              "<style scoped>\n",
              "    .dataframe tbody tr th:only-of-type {\n",
              "        vertical-align: middle;\n",
              "    }\n",
              "\n",
              "    .dataframe tbody tr th {\n",
              "        vertical-align: top;\n",
              "    }\n",
              "\n",
              "    .dataframe thead th {\n",
              "        text-align: right;\n",
              "    }\n",
              "</style>\n",
              "<table border=\"1\" class=\"dataframe\">\n",
              "  <thead>\n",
              "    <tr style=\"text-align: right;\">\n",
              "      <th></th>\n",
              "      <th>Statut URL</th>\n",
              "    </tr>\n",
              "    <tr>\n",
              "      <th>Liste des URL</th>\n",
              "      <th></th>\n",
              "    </tr>\n",
              "  </thead>\n",
              "  <tbody>\n",
              "    <tr>\n",
              "      <th>https://www.e-monsite.com/pages/tutoriels/referencement/</th>\n",
              "      <td>URL valide</td>\n",
              "    </tr>\n",
              "    <tr>\n",
              "      <th>https://www.eskimoz.fr/referencement-naturel/</th>\n",
              "      <td>URL valide</td>\n",
              "    </tr>\n",
              "    <tr>\n",
              "      <th>https://www.rankspirit.com/</th>\n",
              "      <td>URL valide</td>\n",
              "    </tr>\n",
              "    <tr>\n",
              "      <th>https://www.search-foresight.com/comment-faire-du-referencement-naturel-gratuit/</th>\n",
              "      <td>URL valide</td>\n",
              "    </tr>\n",
              "    <tr>\n",
              "      <th>https://www.rouillier.ca/blog/seo-comment-faire-le-referencement-de-son-site-web/</th>\n",
              "      <td>URL valide</td>\n",
              "    </tr>\n",
              "    <tr>\n",
              "      <th>https://www.agence-ska.com/fr/le-referencement-google</th>\n",
              "      <td>URL valide</td>\n",
              "    </tr>\n",
              "    <tr>\n",
              "      <th>https://www.referencement-naturel-white-hat.fr/comment-referencement/</th>\n",
              "      <td>URL valide</td>\n",
              "    </tr>\n",
              "    <tr>\n",
              "      <th>https://www.pulsar-informatique.com/service-seo/1822-apprendre-a-faire-du-referencement</th>\n",
              "      <td>URL valide</td>\n",
              "    </tr>\n",
              "    <tr>\n",
              "      <th>https://www.ludosln.net/comment-bien-referencer-son-site-internet-en-4-etapes/</th>\n",
              "      <td>URL valide</td>\n",
              "    </tr>\n",
              "  </tbody>\n",
              "</table>\n",
              "</div>"
            ],
            "text/plain": [
              "                                                    Statut URL\n",
              "Liste des URL                                                 \n",
              "https://www.e-monsite.com/pages/tutoriels/refer...  URL valide\n",
              "https://www.eskimoz.fr/referencement-naturel/       URL valide\n",
              "https://www.rankspirit.com/                         URL valide\n",
              "https://www.search-foresight.com/comment-faire-...  URL valide\n",
              "https://www.rouillier.ca/blog/seo-comment-faire...  URL valide\n",
              "https://www.agence-ska.com/fr/le-referencement-...  URL valide\n",
              "https://www.referencement-naturel-white-hat.fr/...  URL valide\n",
              "https://www.pulsar-informatique.com/service-seo...  URL valide\n",
              "https://www.ludosln.net/comment-bien-referencer...  URL valide"
            ]
          },
          "metadata": {
            "tags": []
          },
          "execution_count": 61
        }
      ]
    },
    {
      "cell_type": "code",
      "metadata": {
        "id": "e2kwEWlNtRHF",
        "colab_type": "code",
        "colab": {}
      },
      "source": [
        " (trouve toutes les url propres)\n",
        "https?:\\/\\/[a-z0-9\\/._-]*((?<=google|\\&|\\?).)*\n",
        "\n",
        "(trouve toutes les url appartenant à Google)\n",
        "https?:\\/\\/[a-z0-9\\/._-]*(?<=google\\.com\\/)\\b"
      ],
      "execution_count": null,
      "outputs": []
    },
    {
      "cell_type": "code",
      "metadata": {
        "id": "VijDydo7vfhV",
        "colab_type": "code",
        "colab": {}
      },
      "source": [
        "import re\n",
        "chaine = \"\"\n",
        "expression = r\"^0[0-9]([ .-]?[0-9]{2}){4}$\"\n",
        "while re.search(expression, chaine) is None:\n",
        "    chaine = input(\"Saisissez un numéro de téléphone (valide) :\")"
      ],
      "execution_count": null,
      "outputs": []
    }
  ]
}